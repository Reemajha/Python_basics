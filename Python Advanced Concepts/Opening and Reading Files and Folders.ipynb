{
 "cells": [
  {
   "cell_type": "code",
   "execution_count": 1,
   "metadata": {},
   "outputs": [
    {
     "data": {
      "text/plain": [
       "'/Users/reema/Desktop/Python/Untitled Folder'"
      ]
     },
     "execution_count": 1,
     "metadata": {},
     "output_type": "execute_result"
    }
   ],
   "source": [
    "pwd"
   ]
  },
  {
   "cell_type": "code",
   "execution_count": 6,
   "metadata": {},
   "outputs": [],
   "source": [
    "f = open('practice.txt','w+')\n",
    "f.write(\"This is a practice file\")\n",
    "f.close()"
   ]
  },
  {
   "cell_type": "code",
   "execution_count": 7,
   "metadata": {},
   "outputs": [],
   "source": [
    "import os"
   ]
  },
  {
   "cell_type": "code",
   "execution_count": 8,
   "metadata": {},
   "outputs": [
    {
     "data": {
      "text/plain": [
       "'/Users/reema/Desktop/Python/Untitled Folder'"
      ]
     },
     "execution_count": 8,
     "metadata": {},
     "output_type": "execute_result"
    }
   ],
   "source": [
    "os.getcwd()"
   ]
  },
  {
   "cell_type": "code",
   "execution_count": 9,
   "metadata": {},
   "outputs": [
    {
     "data": {
      "text/plain": [
       "['practice.txt',\n",
       " 'Opening and Reading Files and Folders.ipynb',\n",
       " 'Collection Module.ipynb',\n",
       " '.ipynb_checkpoints']"
      ]
     },
     "execution_count": 9,
     "metadata": {},
     "output_type": "execute_result"
    }
   ],
   "source": [
    "os.listdir()"
   ]
  },
  {
   "cell_type": "code",
   "execution_count": 12,
   "metadata": {},
   "outputs": [
    {
     "data": {
      "text/plain": [
       "['Untitled Folder',\n",
       " 'Decorators.ipynb',\n",
       " 'Assessment For Python Statements.ipynb',\n",
       " 'Untitled1.ipynb',\n",
       " '.DS_Store',\n",
       " 'Python Statements.ipynb',\n",
       " 'Errors And Exception Handlings .ipynb',\n",
       " 'Untitled.ipynb',\n",
       " 'Generators.ipynb',\n",
       " 'Lambda Expressions Map and Filter.ipynb',\n",
       " 'Tic Tac Toe.ipynb',\n",
       " 'my_new_file.txt',\n",
       " 'Untitled2.ipynb',\n",
       " 'Objects and Data Structures Basics.ipynb',\n",
       " '__pycache__',\n",
       " 'myprogram.py',\n",
       " 'Functions.ipynb',\n",
       " 'Classes.ipynb',\n",
       " 'OOPs .ipynb',\n",
       " 'MyMainPackage',\n",
       " 'mymodule.py',\n",
       " 'test.txt',\n",
       " '.ipynb_checkpoints',\n",
       " '.git',\n",
       " 'Methods and Functions Assessment .ipynb',\n",
       " 'testfile']"
      ]
     },
     "execution_count": 12,
     "metadata": {},
     "output_type": "execute_result"
    }
   ],
   "source": [
    "os.listdir('/Users/reema/Desktop/Python')"
   ]
  },
  {
   "cell_type": "code",
   "execution_count": 13,
   "metadata": {},
   "outputs": [],
   "source": [
    "import shutil #to move files around "
   ]
  },
  {
   "cell_type": "code",
   "execution_count": 14,
   "metadata": {},
   "outputs": [
    {
     "data": {
      "text/plain": [
       "'/Users/reema/Desktop/Practice.txt'"
      ]
     },
     "execution_count": 14,
     "metadata": {},
     "output_type": "execute_result"
    }
   ],
   "source": [
    "shutil.move('Practice.txt','/Users/reema/Desktop')"
   ]
  },
  {
   "cell_type": "code",
   "execution_count": 15,
   "metadata": {},
   "outputs": [
    {
     "data": {
      "text/plain": [
       "['Untitled Folder',\n",
       " 'Screenshot 2021-08-04 at 8.36.48 AM.png',\n",
       " 'PythonFolders',\n",
       " 'Delhi Jal Board.pdf',\n",
       " 'Screenshot 2021-07-19 at 11.24.29 PM.png',\n",
       " 'Screenshot 2021-07-13 at 12.02.38 AM.png',\n",
       " 'Reema Jha_Business Analyst_2.5Yrs..pdf',\n",
       " 'ScreenShots',\n",
       " '.DS_Store',\n",
       " 'Screenshot 2021-07-12 at 11.21.57 PM.png',\n",
       " 'Screenshot 2021-07-20 at 2.24.38 AM.png',\n",
       " 'reema1',\n",
       " 'Python',\n",
       " '.localized',\n",
       " 'year_check.py',\n",
       " 'Terminal Saved Output',\n",
       " 'Learning',\n",
       " 'Practice.txt',\n",
       " 'HTML',\n",
       " 'Screenshot 2021-08-04 at 8.33.38 AM.png',\n",
       " 'Screenshot 2021-07-26 at 11.02.07 AM.png',\n",
       " 'Screenshot 2021-07-12 at 10.20.21 PM.png',\n",
       " 'Reema_Jha_Business_Analyst_2.5 Years.docx',\n",
       " 'Screenshot 2021-07-08 at 11.45.33 AM.png',\n",
       " 'Screenshot 2021-08-04 at 8.39.27 AM.png',\n",
       " 'Vision Board 2021',\n",
       " 'Screenshot 2021-07-26 at 11.04.38 AM.png',\n",
       " 'Important Documents ',\n",
       " 'Screenshot 2021-07-12 at 9.58.10 PM.png',\n",
       " 'Policy Update 2021.pdf',\n",
       " 'Email Campaign by Shagun Tandon.pdf',\n",
       " 'Reema_DA_2.5.docx',\n",
       " 'javascript',\n",
       " 'Memories ',\n",
       " 'Screenshot 2021-07-19 at 11.28.34 PM.png',\n",
       " 'Screenshot 2021-07-13 at 12.10.21 AM.png',\n",
       " 'Sujay Vision Board 2021',\n",
       " 'SQL']"
      ]
     },
     "execution_count": 15,
     "metadata": {},
     "output_type": "execute_result"
    }
   ],
   "source": [
    "os.listdir('/Users/reema/Desktop')"
   ]
  },
  {
   "cell_type": "code",
   "execution_count": 16,
   "metadata": {},
   "outputs": [],
   "source": [
    "import send2trash #send2trash will move the files to the bin and can be recovered"
   ]
  },
  {
   "cell_type": "code",
   "execution_count": 17,
   "metadata": {},
   "outputs": [
    {
     "data": {
      "text/plain": [
       "['Opening and Reading Files and Folders.ipynb',\n",
       " 'Collection Module.ipynb',\n",
       " '.ipynb_checkpoints']"
      ]
     },
     "execution_count": 17,
     "metadata": {},
     "output_type": "execute_result"
    }
   ],
   "source": [
    "os.listdir()"
   ]
  },
  {
   "cell_type": "code",
   "execution_count": 25,
   "metadata": {},
   "outputs": [
    {
     "ename": "Error",
     "evalue": "Destination path '/Users/reema/Desktop/Python/Untitled Folder/Practice.txt' already exists",
     "output_type": "error",
     "traceback": [
      "\u001b[0;31m---------------------------------------------------------------------------\u001b[0m",
      "\u001b[0;31mError\u001b[0m                                     Traceback (most recent call last)",
      "\u001b[0;32m<ipython-input-25-0f78c04bf3c4>\u001b[0m in \u001b[0;36m<module>\u001b[0;34m\u001b[0m\n\u001b[0;32m----> 1\u001b[0;31m \u001b[0mshutil\u001b[0m\u001b[0;34m.\u001b[0m\u001b[0mmove\u001b[0m\u001b[0;34m(\u001b[0m\u001b[0;34m'/Users/reema/Desktop/Practice.txt'\u001b[0m\u001b[0;34m,\u001b[0m\u001b[0mos\u001b[0m\u001b[0;34m.\u001b[0m\u001b[0mgetcwd\u001b[0m\u001b[0;34m(\u001b[0m\u001b[0;34m)\u001b[0m\u001b[0;34m)\u001b[0m\u001b[0;34m\u001b[0m\u001b[0;34m\u001b[0m\u001b[0m\n\u001b[0m",
      "\u001b[0;32m~/opt/anaconda3/lib/python3.8/shutil.py\u001b[0m in \u001b[0;36mmove\u001b[0;34m(src, dst, copy_function)\u001b[0m\n\u001b[1;32m    784\u001b[0m         \u001b[0mreal_dst\u001b[0m \u001b[0;34m=\u001b[0m \u001b[0mos\u001b[0m\u001b[0;34m.\u001b[0m\u001b[0mpath\u001b[0m\u001b[0;34m.\u001b[0m\u001b[0mjoin\u001b[0m\u001b[0;34m(\u001b[0m\u001b[0mdst\u001b[0m\u001b[0;34m,\u001b[0m \u001b[0m_basename\u001b[0m\u001b[0;34m(\u001b[0m\u001b[0msrc\u001b[0m\u001b[0;34m)\u001b[0m\u001b[0;34m)\u001b[0m\u001b[0;34m\u001b[0m\u001b[0;34m\u001b[0m\u001b[0m\n\u001b[1;32m    785\u001b[0m         \u001b[0;32mif\u001b[0m \u001b[0mos\u001b[0m\u001b[0;34m.\u001b[0m\u001b[0mpath\u001b[0m\u001b[0;34m.\u001b[0m\u001b[0mexists\u001b[0m\u001b[0;34m(\u001b[0m\u001b[0mreal_dst\u001b[0m\u001b[0;34m)\u001b[0m\u001b[0;34m:\u001b[0m\u001b[0;34m\u001b[0m\u001b[0;34m\u001b[0m\u001b[0m\n\u001b[0;32m--> 786\u001b[0;31m             \u001b[0;32mraise\u001b[0m \u001b[0mError\u001b[0m\u001b[0;34m(\u001b[0m\u001b[0;34m\"Destination path '%s' already exists\"\u001b[0m \u001b[0;34m%\u001b[0m \u001b[0mreal_dst\u001b[0m\u001b[0;34m)\u001b[0m\u001b[0;34m\u001b[0m\u001b[0;34m\u001b[0m\u001b[0m\n\u001b[0m\u001b[1;32m    787\u001b[0m     \u001b[0;32mtry\u001b[0m\u001b[0;34m:\u001b[0m\u001b[0;34m\u001b[0m\u001b[0;34m\u001b[0m\u001b[0m\n\u001b[1;32m    788\u001b[0m         \u001b[0mos\u001b[0m\u001b[0;34m.\u001b[0m\u001b[0mrename\u001b[0m\u001b[0;34m(\u001b[0m\u001b[0msrc\u001b[0m\u001b[0;34m,\u001b[0m \u001b[0mreal_dst\u001b[0m\u001b[0;34m)\u001b[0m\u001b[0;34m\u001b[0m\u001b[0;34m\u001b[0m\u001b[0m\n",
      "\u001b[0;31mError\u001b[0m: Destination path '/Users/reema/Desktop/Python/Untitled Folder/Practice.txt' already exists"
     ]
    }
   ],
   "source": [
    "shutil.move('/Users/reema/Desktop/Practice.txt',os.getcwd())"
   ]
  },
  {
   "cell_type": "code",
   "execution_count": 24,
   "metadata": {},
   "outputs": [
    {
     "data": {
      "text/plain": [
       "['Practice.txt',\n",
       " 'Opening and Reading Files and Folders.ipynb',\n",
       " 'Collection Module.ipynb',\n",
       " '.ipynb_checkpoints']"
      ]
     },
     "execution_count": 24,
     "metadata": {},
     "output_type": "execute_result"
    }
   ],
   "source": [
    "os.listdir()"
   ]
  },
  {
   "cell_type": "code",
   "execution_count": 26,
   "metadata": {},
   "outputs": [],
   "source": [
    "send2trash.send2trash('practice.txt')"
   ]
  },
  {
   "cell_type": "code",
   "execution_count": 27,
   "metadata": {},
   "outputs": [
    {
     "data": {
      "text/plain": [
       "['Opening and Reading Files and Folders.ipynb',\n",
       " 'Collection Module.ipynb',\n",
       " '.ipynb_checkpoints']"
      ]
     },
     "execution_count": 27,
     "metadata": {},
     "output_type": "execute_result"
    }
   ],
   "source": [
    "os.listdir()"
   ]
  },
  {
   "cell_type": "code",
   "execution_count": 28,
   "metadata": {},
   "outputs": [
    {
     "name": "stdout",
     "output_type": "stream",
     "text": [
      "Currently looking at /Users/reema/Desktop/Python/Untitled Folder\n",
      "\n",
      "\n",
      "The sub folders are: \n",
      "\t Subfolder: .ipynb_checkpoints\n",
      "\n",
      "\n",
      "The files are: \n",
      "\t Files: Opening and Reading Files and Folders.ipynb\n",
      "\t Files: Collection Module.ipynb\n",
      "\n",
      "\n",
      "Currently looking at /Users/reema/Desktop/Python/Untitled Folder/.ipynb_checkpoints\n",
      "\n",
      "\n",
      "The sub folders are: \n",
      "\n",
      "\n",
      "The files are: \n",
      "\t Files: Opening and Reading Files and Folders-checkpoint.ipynb\n",
      "\t Files: Collection Module-checkpoint.ipynb\n",
      "\n",
      "\n"
     ]
    }
   ],
   "source": [
    "for folder, sub_folder, files in os.walk(os.getcwd()):\n",
    "    \n",
    "    print(f\"Currently looking at {folder}\")\n",
    "    print('\\n')\n",
    "    print('The sub folders are: ')\n",
    "    for sub_fold in sub_folder:\n",
    "        print(f\"\\t Subfolder: {sub_fold}\")\n",
    "    \n",
    "    print('\\n')\n",
    "    print('The files are: ')\n",
    "    for f in files: \n",
    "        print(f\"\\t Files: {f}\")\n",
    "    print('\\n')"
   ]
  },
  {
   "cell_type": "code",
   "execution_count": null,
   "metadata": {},
   "outputs": [],
   "source": []
  }
 ],
 "metadata": {
  "kernelspec": {
   "display_name": "Python 3",
   "language": "python",
   "name": "python3"
  },
  "language_info": {
   "codemirror_mode": {
    "name": "ipython",
    "version": 3
   },
   "file_extension": ".py",
   "mimetype": "text/x-python",
   "name": "python",
   "nbconvert_exporter": "python",
   "pygments_lexer": "ipython3",
   "version": "3.8.5"
  }
 },
 "nbformat": 4,
 "nbformat_minor": 4
}
