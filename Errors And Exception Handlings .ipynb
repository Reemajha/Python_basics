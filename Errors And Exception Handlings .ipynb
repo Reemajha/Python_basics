{
 "cells": [
  {
   "cell_type": "code",
   "execution_count": 2,
   "metadata": {},
   "outputs": [],
   "source": [
    "def add(n1,n2):\n",
    "    print (n1+n2)\n",
    "    "
   ]
  },
  {
   "cell_type": "code",
   "execution_count": 3,
   "metadata": {},
   "outputs": [
    {
     "name": "stdout",
     "output_type": "stream",
     "text": [
      "5\n"
     ]
    }
   ],
   "source": [
    "add(2,3)"
   ]
  },
  {
   "cell_type": "code",
   "execution_count": 4,
   "metadata": {},
   "outputs": [],
   "source": [
    "number1 = 10"
   ]
  },
  {
   "cell_type": "code",
   "execution_count": 7,
   "metadata": {},
   "outputs": [
    {
     "name": "stdout",
     "output_type": "stream",
     "text": [
      "Please enter number 2: 20\n"
     ]
    }
   ],
   "source": [
    "number2 = eval(input(\"Please enter number 2: \"))"
   ]
  },
  {
   "cell_type": "code",
   "execution_count": 8,
   "metadata": {},
   "outputs": [
    {
     "name": "stdout",
     "output_type": "stream",
     "text": [
      "30\n"
     ]
    }
   ],
   "source": [
    "add(number1,number2)"
   ]
  },
  {
   "cell_type": "code",
   "execution_count": 17,
   "metadata": {},
   "outputs": [
    {
     "name": "stdout",
     "output_type": "stream",
     "text": [
      "Add went well\n",
      "20\n"
     ]
    }
   ],
   "source": [
    "try: \n",
    "    result = 10 + 10 \n",
    "except: \n",
    "    print(\"Hey! Looks like you are doing something wrong\")\n",
    "else: \n",
    "    print(\"Add went well\")\n",
    "    print(result)"
   ]
  },
  {
   "cell_type": "code",
   "execution_count": 20,
   "metadata": {},
   "outputs": [
    {
     "name": "stdout",
     "output_type": "stream",
     "text": [
      "Hey! You have an OS Error\n",
      "I always run\n"
     ]
    }
   ],
   "source": [
    "try: \n",
    "    f = open('testfile','r') #write mode\n",
    "    f.write(\"Writing a test line\")\n",
    "except TypeError:\n",
    "    print(\"hey! There was a Type Error \")\n",
    "except OSError:\n",
    "    print(\"Hey! You have an OS Error\")\n",
    "finally:\n",
    "    print(\"I always run\")  "
   ]
  },
  {
   "cell_type": "code",
   "execution_count": 27,
   "metadata": {},
   "outputs": [],
   "source": [
    "def ask_for_int():\n",
    "    \n",
    "    while True: \n",
    "    \n",
    "        try: \n",
    "            result = int(input(\"Please provide number\"))\n",
    "        except: \n",
    "            print(\"Not a number\")\n",
    "            continue\n",
    "        else: \n",
    "            print(\"Yes! Thank You\")\n",
    "            break\n",
    "        finally: \n",
    "            print(\"I am going to ask you again \\n\")\n",
    "           "
   ]
  },
  {
   "cell_type": "code",
   "execution_count": 28,
   "metadata": {},
   "outputs": [
    {
     "name": "stdout",
     "output_type": "stream",
     "text": [
      "Please provide numberq\n",
      "Not a number\n",
      "I am going to ask you again \n",
      "\n",
      "Please provide numberq\n",
      "Not a number\n",
      "I am going to ask you again \n",
      "\n",
      "Please provide numbery\n",
      "Not a number\n",
      "I am going to ask you again \n",
      "\n",
      "Please provide number1\n",
      "Yes! Thank You\n",
      "I am going to ask you again \n",
      "\n"
     ]
    }
   ],
   "source": [
    "ask_for_int()"
   ]
  },
  {
   "cell_type": "code",
   "execution_count": 55,
   "metadata": {},
   "outputs": [
    {
     "name": "stdout",
     "output_type": "stream",
     "text": [
      "name 'abcdefgh' is not defined\n",
      "abcd\n"
     ]
    }
   ],
   "source": [
    "def new():\n",
    "    \n",
    "    try: \n",
    "        print(abcdefgh)\n",
    "    except Exception as e:\n",
    "        print(e)   \n",
    "new()\n",
    "\n",
    "print(\"abcd\")"
   ]
  },
  {
   "cell_type": "code",
   "execution_count": 43,
   "metadata": {},
   "outputs": [
    {
     "name": "stdout",
     "output_type": "stream",
     "text": [
      "An error occured\n"
     ]
    }
   ],
   "source": [
    "try: \n",
    "    for i in ['a','b','c']:\n",
    "        print(i**2)\n",
    "except: \n",
    "    print(\"An error occured\")"
   ]
  },
  {
   "cell_type": "code",
   "execution_count": 66,
   "metadata": {},
   "outputs": [
    {
     "name": "stdout",
     "output_type": "stream",
     "text": [
      "An error occured division by zero\n",
      "All done\n"
     ]
    }
   ],
   "source": [
    "try: \n",
    "    def func(x=5,y=0):\n",
    "        z = x/y\n",
    "        print(z)\n",
    "    func()\n",
    "\n",
    "except Exception as a: \n",
    "    print(\"An error occured\", a)\n",
    "finally: \n",
    "    print(\"All done\")\n"
   ]
  },
  {
   "cell_type": "code",
   "execution_count": 46,
   "metadata": {},
   "outputs": [
    {
     "name": "stdout",
     "output_type": "stream",
     "text": [
      "Can't divide by zero\n",
      "All done\n"
     ]
    }
   ],
   "source": [
    "x = 5 \n",
    "y = 0 \n",
    "\n",
    "try: \n",
    "    z = x/y\n",
    "except ZeroDivisionError:\n",
    "    print(\"Can't divide by zero\")\n",
    "finally: \n",
    "    print(\"All done\")"
   ]
  },
  {
   "cell_type": "code",
   "execution_count": 60,
   "metadata": {},
   "outputs": [],
   "source": [
    "def ask():\n",
    "    \n",
    "    while True: \n",
    "        \n",
    "        try: \n",
    "            z = int(input(\"Enter a number: \"))\n",
    "            \n",
    "        except Exception as error:\n",
    "            print(\"An error occured! Please try again!\", error)\n",
    "            continue\n",
    "            \n",
    "        else:\n",
    "            break\n",
    "            \n",
    "    print(\"Thank You! Your number is squared\", z**2)"
   ]
  },
  {
   "cell_type": "code",
   "execution_count": 61,
   "metadata": {},
   "outputs": [
    {
     "name": "stdout",
     "output_type": "stream",
     "text": [
      "Enter a number: y\n",
      "An error occured! Please try again! invalid literal for int() with base 10: 'y'\n",
      "Enter a number: 10\n",
      "Thank You! Your number is squared 100\n"
     ]
    }
   ],
   "source": [
    "ask()"
   ]
  },
  {
   "cell_type": "code",
   "execution_count": null,
   "metadata": {},
   "outputs": [],
   "source": []
  }
 ],
 "metadata": {
  "kernelspec": {
   "display_name": "Python 3",
   "language": "python",
   "name": "python3"
  },
  "language_info": {
   "codemirror_mode": {
    "name": "ipython",
    "version": 3
   },
   "file_extension": ".py",
   "mimetype": "text/x-python",
   "name": "python",
   "nbconvert_exporter": "python",
   "pygments_lexer": "ipython3",
   "version": "3.8.5"
  }
 },
 "nbformat": 4,
 "nbformat_minor": 4
}
