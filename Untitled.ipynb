{
 "cells": [
  {
   "cell_type": "code",
   "execution_count": 6,
   "metadata": {},
   "outputs": [
    {
     "name": "stdout",
     "output_type": "stream",
     "text": [
      "Enter number of elements in the list : 2\n",
      "Enter element No-1: \n",
      "Enter the Year to be checked: 2021\n",
      "Enter element No-2: \n",
      "Enter the Year to be checked: 2020\n",
      "The entered list is: \n",
      " [2021, 2020]\n",
      "[False, True]\n"
     ]
    }
   ],
   "source": [
    "def check_leap_year(input_year):\n",
    "    output=[]\n",
    "    for j in input_year:\n",
    "        if (j%4 == 0):\n",
    "            output.append(True)\n",
    "        else:\n",
    "            output.append(False)\n",
    "    return output\n",
    "\n",
    "\n",
    "ele_ls = eval(input(\"Enter number of elements in the list : \"))\n",
    "ls=[]\n",
    "for i in range(0,ele_ls):\n",
    "   print(f\"Enter element No-{i+1}: \")\n",
    "   input_year = eval(input(\"Enter the Year to be checked: \"))\n",
    "   ls.append(input_year) \n",
    "print(\"The entered list is: \\n\",ls)\n",
    "print(check_leap_year(ls))"
   ]
  },
  {
   "cell_type": "code",
   "execution_count": null,
   "metadata": {},
   "outputs": [],
   "source": []
  },
  {
   "cell_type": "code",
   "execution_count": null,
   "metadata": {},
   "outputs": [],
   "source": []
  },
  {
   "cell_type": "code",
   "execution_count": null,
   "metadata": {},
   "outputs": [],
   "source": []
  },
  {
   "cell_type": "code",
   "execution_count": null,
   "metadata": {},
   "outputs": [],
   "source": []
  },
  {
   "cell_type": "code",
   "execution_count": null,
   "metadata": {},
   "outputs": [],
   "source": []
  },
  {
   "cell_type": "code",
   "execution_count": null,
   "metadata": {},
   "outputs": [],
   "source": []
  },
  {
   "cell_type": "code",
   "execution_count": null,
   "metadata": {},
   "outputs": [],
   "source": []
  },
  {
   "cell_type": "code",
   "execution_count": null,
   "metadata": {},
   "outputs": [],
   "source": []
  }
 ],
 "metadata": {
  "kernelspec": {
   "display_name": "Python 3",
   "language": "python",
   "name": "python3"
  },
  "language_info": {
   "codemirror_mode": {
    "name": "ipython",
    "version": 3
   },
   "file_extension": ".py",
   "mimetype": "text/x-python",
   "name": "python",
   "nbconvert_exporter": "python",
   "pygments_lexer": "ipython3",
   "version": "3.8.5"
  }
 },
 "nbformat": 4,
 "nbformat_minor": 4
}
