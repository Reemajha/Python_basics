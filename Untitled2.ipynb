{
 "cells": [
  {
   "cell_type": "code",
   "execution_count": null,
   "metadata": {},
   "outputs": [
    {
     "name": "stdout",
     "output_type": "stream",
     "text": [
      "Enter the number of elements: 6\n",
      "Enter element number 1: \n",
      "Enter the number to be checked: 1\n",
      "Enter element number 2: \n",
      "Enter the number to be checked: 5\n",
      "Enter element number 3: \n",
      "Enter the number to be checked: 7\n",
      "Enter element number 4: \n",
      "Enter the number to be checked: 9\n",
      "Enter element number 5: \n"
     ]
    }
   ],
   "source": [
    "def even_number(input_numbers):\n",
    "    output=[]\n",
    "    for i in input_numbers:\n",
    "        if (i%2==0):\n",
    "            output.append(True)\n",
    "        else:\n",
    "            output.append(False)\n",
    "    return output\n",
    "\n",
    "list_1 = eval(input(\"Enter the number of elements: \"))\n",
    "ls = []\n",
    "\n",
    "for i in range(0, list_1):\n",
    "    print(f'Enter element number {i+1}: ')\n",
    "    input_numbers = eval(input(\"Enter the number to be checked: \"))\n",
    "    ls.append(input_numbers)\n",
    "print(\"The entered list is \\n\",ls)\n",
    "print(even_number(ls))"
   ]
  },
  {
   "cell_type": "code",
   "execution_count": 2,
   "metadata": {},
   "outputs": [],
   "source": [
    "\n",
    " "
   ]
  },
  {
   "cell_type": "code",
   "execution_count": 3,
   "metadata": {},
   "outputs": [
    {
     "data": {
      "text/plain": [
       "[False, True, False, False]"
      ]
     },
     "execution_count": 3,
     "metadata": {},
     "output_type": "execute_result"
    }
   ],
   "source": []
  },
  {
   "cell_type": "code",
   "execution_count": null,
   "metadata": {},
   "outputs": [],
   "source": []
  }
 ],
 "metadata": {
  "kernelspec": {
   "display_name": "Python 3",
   "language": "python",
   "name": "python3"
  },
  "language_info": {
   "codemirror_mode": {
    "name": "ipython",
    "version": 3
   },
   "file_extension": ".py",
   "mimetype": "text/x-python",
   "name": "python",
   "nbconvert_exporter": "python",
   "pygments_lexer": "ipython3",
   "version": "3.8.5"
  }
 },
 "nbformat": 4,
 "nbformat_minor": 4
}
